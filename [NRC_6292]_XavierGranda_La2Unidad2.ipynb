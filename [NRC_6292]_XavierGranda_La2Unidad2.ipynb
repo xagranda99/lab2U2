{
 "cells": [
  {
   "cell_type": "markdown",
   "id": "20f678fb",
   "metadata": {},
   "source": [
    "<h1>Pre-procesamiento de Datos</h1>"
   ]
  },
  {
   "cell_type": "code",
   "execution_count": null,
   "id": "4cb2ccb9",
   "metadata": {},
   "outputs": [],
   "source": [
    "'''Importar la libreria para la realizacion de este laboratorio.'''\n",
    "import pandas as pd\n",
    "import numpy as np\n",
    "import matplotlib.pyplot as plt "
   ]
  }
 ],
 "metadata": {
  "kernelspec": {
   "display_name": "Python 3 (ipykernel)",
   "language": "python",
   "name": "python3"
  },
  "language_info": {
   "codemirror_mode": {
    "name": "ipython",
    "version": 3
   },
   "file_extension": ".py",
   "mimetype": "text/x-python",
   "name": "python",
   "nbconvert_exporter": "python",
   "pygments_lexer": "ipython3",
   "version": "3.9.12"
  }
 },
 "nbformat": 4,
 "nbformat_minor": 5
}
